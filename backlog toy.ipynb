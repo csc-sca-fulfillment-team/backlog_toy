{
 "cells": [
  {
   "cell_type": "code",
   "execution_count": null,
   "id": "dfb52221",
   "metadata": {},
   "outputs": [],
   "source": [
    "import numpy as np\n",
    "import random"
   ]
  },
  {
   "cell_type": "code",
   "execution_count": null,
   "id": "20811958",
   "metadata": {},
   "outputs": [],
   "source": [
    "units_ordered = [10, 5, 2, 5, 3]\n",
    "days = len(units_ordered)\n",
    "backlog = [[0]] # start with zero backlog (if appropriate)\n",
    "capacity = [3] * days # ok to use non-constant capacity (change by day, day of week, etc.)"
   ]
  },
  {
   "cell_type": "code",
   "execution_count": null,
   "id": "30e4f282",
   "metadata": {
    "scrolled": true
   },
   "outputs": [],
   "source": [
    "print('days = ', days)\n",
    "print('units ordered by day:', units_ordered)\n",
    "print('capacity by day:', capacity)\n",
    "print('backlog:',backlog)"
   ]
  },
  {
   "cell_type": "code",
   "execution_count": null,
   "id": "26042ef5",
   "metadata": {},
   "outputs": [],
   "source": [
    "for d in range(days):\n",
    "    # reverse current backlog\n",
    "    backlog_d = backlog[d][::-1]\n",
    "    # add new units for today\n",
    "    backlog_d.append(units_ordered[d])\n",
    "    # calculate new backlog\n",
    "    backlog_d = [b for b in np.diff([0, *[max(0,v) for v in np.cumsum(backlog_d) - capacity[d]]])[::-1] if b!=0]\n",
    "    # add new backlog to backlog list\n",
    "    backlog.append(backlog_d)\n",
    "\n",
    "print('backlog over time:')\n",
    "print(backlog)"
   ]
  },
  {
   "cell_type": "code",
   "execution_count": null,
   "id": "ecc04376",
   "metadata": {},
   "outputs": [],
   "source": [
    "for d in range(days):\n",
    "    print('')\n",
    "    print('day:', d)\n",
    "    \n",
    "    # get current backlog (most recent to most late)\n",
    "    backlog_d = backlog[d]\n",
    "    print('current backlog:', backlog_d)\n",
    "    \n",
    "    # reverse backlog (most late to most recent)\n",
    "    backlog_drev = backlog_d[::-1]\n",
    "    print('current backlog reversed:', backlog_drev)\n",
    "    \n",
    "    # add units scheduled to be processed today\n",
    "    print('new units:', [units_ordered[d]])    \n",
    "    \n",
    "    # (most late to most recent + today)\n",
    "    # todays units will only get processed if total backlog is processed\n",
    "    backlog_drev.append(units_ordered[d])\n",
    "    print('current backlog reversed + today units:', backlog_drev)    \n",
    "    \n",
    "    # get cumulative sum of (reversed) backlog\n",
    "    backlog_drev_csum = np.cumsum(backlog_drev)\n",
    "    print('backlog cumulative sum:', backlog_drev_csum)\n",
    "    \n",
    "    # get capacity for today\n",
    "    capacity_d = capacity[d]\n",
    "    print('capacity today:', capacity_d)\n",
    "    \n",
    "    # subtract capacity from csum backlog\n",
    "    backlog_remaining_csum = backlog_drev_csum - capacity_d\n",
    "    print('backlog csum after subtracting capacity:', backlog_remaining_csum)\n",
    "    \n",
    "    # set negative values to zero; backlog cannot go below zero\n",
    "    backlog_remaining_csum_nonneg = [max(0, v) for v in backlog_remaining_csum]\n",
    "    print('backlog csum non-negative:', backlog_remaining_csum_nonneg)\n",
    "    \n",
    "    # get difference between cumulative sums to get backlog by days late\n",
    "    backlog_diff_rev = np.diff([0, *backlog_remaining_csum_nonneg])\n",
    "    print('backlog remaining reversed:', backlog_diff_rev)\n",
    "    \n",
    "    # reverse backlog to be in original order again\n",
    "    backlog_diff = backlog_diff_rev[::-1]\n",
    "    print('backlog remaining unreversed:', backlog_diff)\n",
    "    \n",
    "    # drop zeros from backlog (no backlog)\n",
    "    backlog_diff = [b for b in backlog_diff if b!=0]\n",
    "    print('backlog with zeros dropped:', backlog_diff)\n",
    "    \n",
    "    # record backlog\n",
    "    backlog.append(backlog_diff)\n",
    "    \n",
    "    #\n",
    "    #backlog[:,d+1] = np.diff([0, *[max(0, v) for v in np.cumsum(backlog[:,d][::-1]) - capacity[d]]])[::-1]\n",
    "    \n",
    "print('backlog over time:')\n",
    "print(backlog)"
   ]
  },
  {
   "cell_type": "code",
   "execution_count": null,
   "id": "190b6fa8",
   "metadata": {},
   "outputs": [],
   "source": [
    "backlog"
   ]
  },
  {
   "cell_type": "code",
   "execution_count": null,
   "id": "835941fb",
   "metadata": {},
   "outputs": [],
   "source": [
    "# units in backlog\n",
    "[sum(b) for b in backlog]"
   ]
  },
  {
   "cell_type": "code",
   "execution_count": null,
   "id": "d924758c",
   "metadata": {},
   "outputs": [],
   "source": [
    "# max days late in backlog\n",
    "[len(b) for b in backlog]"
   ]
  },
  {
   "cell_type": "code",
   "execution_count": null,
   "id": "66e80ac7",
   "metadata": {},
   "outputs": [],
   "source": [
    "backlog"
   ]
  },
  {
   "cell_type": "code",
   "execution_count": null,
   "id": "48ea6f90",
   "metadata": {
    "scrolled": true
   },
   "outputs": [],
   "source": [
    "# average lateness of backlog\n",
    "\n",
    "def mean_lateness(b):\n",
    "    \n",
    "    if sum(b) != 0:\n",
    "        mean_late = sum([b[i]*(i+1) for i in range(len(b))]) / sum(b)\n",
    "    else:\n",
    "        mean_late = 0\n",
    "        \n",
    "    return mean_late\n",
    "\n",
    "[mean_lateness(b) for b in backlog]"
   ]
  },
  {
   "cell_type": "code",
   "execution_count": null,
   "id": "f0b4ea88",
   "metadata": {},
   "outputs": [],
   "source": []
  }
 ],
 "metadata": {
  "kernelspec": {
   "display_name": "Python 3 (ipykernel)",
   "language": "python",
   "name": "python3"
  },
  "language_info": {
   "codemirror_mode": {
    "name": "ipython",
    "version": 3
   },
   "file_extension": ".py",
   "mimetype": "text/x-python",
   "name": "python",
   "nbconvert_exporter": "python",
   "pygments_lexer": "ipython3",
   "version": "3.11.5"
  }
 },
 "nbformat": 4,
 "nbformat_minor": 5
}
